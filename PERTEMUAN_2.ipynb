{
  "nbformat": 4,
  "nbformat_minor": 0,
  "metadata": {
    "colab": {
      "name": "PERTEMUAN 2",
      "provenance": [],
      "collapsed_sections": []
    },
    "kernelspec": {
      "name": "python3",
      "display_name": "Python 3"
    },
    "language_info": {
      "name": "python"
    }
  },
  "cells": [
    {
      "cell_type": "code",
      "metadata": {
        "id": "ZOuq9XjBbmSn"
      },
      "source": [
        "import numpy as np"
      ],
      "execution_count": null,
      "outputs": []
    },
    {
      "cell_type": "code",
      "metadata": {
        "colab": {
          "base_uri": "https://localhost:8080/"
        },
        "id": "wP8jWUcumunq",
        "outputId": "e8510b20-446f-44b9-8330-29a977ff2109"
      },
      "source": [
        "print(np.__version__)"
      ],
      "execution_count": null,
      "outputs": [
        {
          "output_type": "stream",
          "name": "stdout",
          "text": [
            "1.19.5\n"
          ]
        }
      ]
    },
    {
      "cell_type": "code",
      "metadata": {
        "colab": {
          "base_uri": "https://localhost:8080/"
        },
        "id": "n9zGx5JanHty",
        "outputId": "bfaab007-5a01-4eed-ee7b-0e348d3d1fb6"
      },
      "source": [
        "print (\"Hello, word!\")"
      ],
      "execution_count": null,
      "outputs": [
        {
          "output_type": "stream",
          "name": "stdout",
          "text": [
            "Hello, word!\n"
          ]
        }
      ]
    },
    {
      "cell_type": "code",
      "metadata": {
        "colab": {
          "base_uri": "https://localhost:8080/"
        },
        "id": "HlGnVD_vnOox",
        "outputId": "ba96279f-c5a1-40f1-ee5a-54e9e036a662"
      },
      "source": [
        "print(\"Nama saya (Syawaludin Fazri)\")"
      ],
      "execution_count": null,
      "outputs": [
        {
          "output_type": "stream",
          "name": "stdout",
          "text": [
            "Nama saya (Syawaludin Fazri)\n"
          ]
        }
      ]
    },
    {
      "cell_type": "code",
      "metadata": {
        "colab": {
          "base_uri": "https://localhost:8080/"
        },
        "id": "1MiJghAQnUeD",
        "outputId": "223c6b8b-26dc-47ce-d506-2ec90efd695c"
      },
      "source": [
        "print(\"NIM Saya (2020071004)\")"
      ],
      "execution_count": null,
      "outputs": [
        {
          "output_type": "stream",
          "name": "stdout",
          "text": [
            "NIM Saya (2020071004)\n"
          ]
        }
      ]
    },
    {
      "cell_type": "code",
      "metadata": {
        "colab": {
          "base_uri": "https://localhost:8080/"
        },
        "id": "E-EBzsXIonlD",
        "outputId": "5e7e9c8b-98b8-46f4-c5e3-7685e8e66ccf"
      },
      "source": [
        "if 5 > 2:\n",
        "  print(\"Five is greater than two!\")"
      ],
      "execution_count": null,
      "outputs": [
        {
          "output_type": "stream",
          "name": "stdout",
          "text": [
            "Five is greater than two!\n"
          ]
        }
      ]
    },
    {
      "cell_type": "code",
      "metadata": {
        "colab": {
          "base_uri": "https://localhost:8080/"
        },
        "id": "e9FnhPDMpqK0",
        "outputId": "bb535c1f-13e6-4bfa-d97f-197763cf6b66"
      },
      "source": [
        "x = 5\n",
        "y = \"John\"\n",
        "print(x)\n",
        "print(y)"
      ],
      "execution_count": null,
      "outputs": [
        {
          "output_type": "stream",
          "name": "stdout",
          "text": [
            "5\n",
            "John\n"
          ]
        }
      ]
    },
    {
      "cell_type": "code",
      "metadata": {
        "colab": {
          "base_uri": "https://localhost:8080/"
        },
        "id": "U_2xBFmZqp79",
        "outputId": "bf7fe780-a598-4737-821c-607c059d78a7"
      },
      "source": [
        "x = 4\n",
        "x = \"sally\"\n",
        "print(x)"
      ],
      "execution_count": null,
      "outputs": [
        {
          "output_type": "stream",
          "name": "stdout",
          "text": [
            "sally\n"
          ]
        }
      ]
    },
    {
      "cell_type": "code",
      "metadata": {
        "id": "iWY9OsBRq3i2"
      },
      "source": [
        "def getFirst(myList):\n",
        "    return myList[0]"
      ],
      "execution_count": null,
      "outputs": []
    },
    {
      "cell_type": "code",
      "metadata": {
        "colab": {
          "base_uri": "https://localhost:8080/"
        },
        "id": "-uk_g0E2ro5a",
        "outputId": "d98c7dd1-4bbf-45ee-a8f0-7653c4e41e7c"
      },
      "source": [
        "getFirst([1,2,3])"
      ],
      "execution_count": null,
      "outputs": [
        {
          "output_type": "execute_result",
          "data": {
            "text/plain": [
              "1"
            ]
          },
          "metadata": {},
          "execution_count": 19
        }
      ]
    },
    {
      "cell_type": "code",
      "metadata": {
        "colab": {
          "base_uri": "https://localhost:8080/"
        },
        "id": "z4j0z_D4r3kC",
        "outputId": "ca95ae2d-dcbb-4a23-84f1-c921d464fbb9"
      },
      "source": [
        "getFirst([1,2,3,4,5,6,7,8,9,10])"
      ],
      "execution_count": null,
      "outputs": [
        {
          "output_type": "execute_result",
          "data": {
            "text/plain": [
              "1"
            ]
          },
          "metadata": {},
          "execution_count": 21
        }
      ]
    },
    {
      "cell_type": "code",
      "metadata": {
        "id": "VmJ20Bhtsctc"
      },
      "source": [
        "def getSecond(myList):\n",
        "    return myList[1]"
      ],
      "execution_count": 29,
      "outputs": []
    },
    {
      "cell_type": "code",
      "metadata": {
        "colab": {
          "base_uri": "https://localhost:8080/"
        },
        "id": "Qk4uTYZk5nd7",
        "outputId": "39009116-6a21-4bab-83c9-7dca00befbbb"
      },
      "source": [
        "getSecond([2,3,4])"
      ],
      "execution_count": 31,
      "outputs": [
        {
          "output_type": "execute_result",
          "data": {
            "text/plain": [
              "3"
            ]
          },
          "metadata": {},
          "execution_count": 31
        }
      ]
    },
    {
      "cell_type": "code",
      "metadata": {
        "id": "xwBNQGWSASY-"
      },
      "source": [
        "def getLast(myList):\n",
        "    return myList[-1]"
      ],
      "execution_count": 34,
      "outputs": []
    },
    {
      "cell_type": "code",
      "metadata": {
        "colab": {
          "base_uri": "https://localhost:8080/"
        },
        "id": "IqaE84UAA31u",
        "outputId": "888a00af-0a3c-4ac3-8e21-9f0eba64af94"
      },
      "source": [
        "getLast ([1,2,3,4])"
      ],
      "execution_count": 35,
      "outputs": [
        {
          "output_type": "execute_result",
          "data": {
            "text/plain": [
              "4"
            ]
          },
          "metadata": {},
          "execution_count": 35
        }
      ]
    },
    {
      "cell_type": "code",
      "metadata": {
        "id": "hhqq47WUBUQJ"
      },
      "source": [
        "def getSum(myList):\n",
        "    sum = 0\n",
        "    for item in myList:\n",
        "        sum = sum+item\n",
        "    return sum "
      ],
      "execution_count": 36,
      "outputs": []
    },
    {
      "cell_type": "code",
      "metadata": {
        "colab": {
          "base_uri": "https://localhost:8080/"
        },
        "id": "IbX9FjCcCTiW",
        "outputId": "03d83edc-d8e3-4b8e-dc98-22a5c230ec1c"
      },
      "source": [
        "getSum([1,2,3,4,])"
      ],
      "execution_count": 37,
      "outputs": [
        {
          "output_type": "execute_result",
          "data": {
            "text/plain": [
              "10"
            ]
          },
          "metadata": {},
          "execution_count": 37
        }
      ]
    },
    {
      "cell_type": "code",
      "metadata": {
        "colab": {
          "base_uri": "https://localhost:8080/"
        },
        "id": "jrDUS-I9Cd6h",
        "outputId": "446bf475-2a66-4100-d1a2-36c3ceefb678"
      },
      "source": [
        "getSum([1,2,3])"
      ],
      "execution_count": 38,
      "outputs": [
        {
          "output_type": "execute_result",
          "data": {
            "text/plain": [
              "6"
            ]
          },
          "metadata": {},
          "execution_count": 38
        }
      ]
    },
    {
      "cell_type": "code",
      "metadata": {
        "id": "Bh9HIPumFSaH"
      },
      "source": [
        "def getKali(myList):\n",
        "    sum = 1\n",
        "    for item in myList:\n",
        "        sum = sum*item\n",
        "    return sum "
      ],
      "execution_count": 43,
      "outputs": []
    },
    {
      "cell_type": "code",
      "metadata": {
        "colab": {
          "base_uri": "https://localhost:8080/"
        },
        "id": "EuEY7P4qFmlm",
        "outputId": "0a10d91e-1ca0-4a14-c49a-1708913446da"
      },
      "source": [
        "getKali([5,2])"
      ],
      "execution_count": 44,
      "outputs": [
        {
          "output_type": "execute_result",
          "data": {
            "text/plain": [
              "10"
            ]
          },
          "metadata": {},
          "execution_count": 44
        }
      ]
    },
    {
      "cell_type": "code",
      "metadata": {
        "id": "2wh4gaR5Fuz5"
      },
      "source": [
        "def getBagi(myList):\n",
        "    Bagi = 100\n",
        "    for item in myList:\n",
        "      Bagi = Bagi/item\n",
        "    return Bagi"
      ],
      "execution_count": 56,
      "outputs": []
    },
    {
      "cell_type": "code",
      "metadata": {
        "colab": {
          "base_uri": "https://localhost:8080/"
        },
        "id": "oI3qfdbdGORw",
        "outputId": "c04290c7-c19b-4805-bebb-923e766c3e00"
      },
      "source": [
        "getBagi([10,5])"
      ],
      "execution_count": 59,
      "outputs": [
        {
          "output_type": "execute_result",
          "data": {
            "text/plain": [
              "2.0"
            ]
          },
          "metadata": {},
          "execution_count": 59
        }
      ]
    },
    {
      "cell_type": "code",
      "metadata": {
        "colab": {
          "base_uri": "https://localhost:8080/"
        },
        "id": "NCK55Dl_L2l2",
        "outputId": "36c19bb4-496b-4264-f912-5eaa2b5a5d83"
      },
      "source": [
        "def getSum(myList):\n",
        "  sum = 0\n",
        "  for row in myList:\n",
        "      for item in row:\n",
        "          sum += item\n",
        "  return sum\n",
        "getSum([[1,2,5,],[3,4,7]])"
      ],
      "execution_count": 66,
      "outputs": [
        {
          "output_type": "execute_result",
          "data": {
            "text/plain": [
              "22"
            ]
          },
          "metadata": {},
          "execution_count": 66
        }
      ]
    },
    {
      "cell_type": "code",
      "metadata": {
        "colab": {
          "base_uri": "https://localhost:8080/"
        },
        "id": "v3UqOwPaMBYR",
        "outputId": "5956eff6-0507-4fa5-ee92-12bb3f305ee7"
      },
      "source": [
        "def getSum(myList):\n",
        "  sum = 1000\n",
        "  for row in myList:\n",
        "      for item in row:\n",
        "          sum /= item\n",
        "  return sum\n",
        "getSum([[10,2],[5,1]])"
      ],
      "execution_count": 67,
      "outputs": [
        {
          "output_type": "execute_result",
          "data": {
            "text/plain": [
              "10.0"
            ]
          },
          "metadata": {},
          "execution_count": 67
        }
      ]
    },
    {
      "cell_type": "code",
      "metadata": {
        "colab": {
          "base_uri": "https://localhost:8080/"
        },
        "id": "0VXR9aIWN8D_",
        "outputId": "90593bd2-6f2d-4e3c-c58b-bf75682919f2"
      },
      "source": [
        "def getSum(myList):\n",
        "  sum = 100\n",
        "  for row in myList:\n",
        "      for item in row:\n",
        "          sum -= item\n",
        "  return sum\n",
        "getSum([[10,5],[5,25]])"
      ],
      "execution_count": 68,
      "outputs": [
        {
          "output_type": "execute_result",
          "data": {
            "text/plain": [
              "55"
            ]
          },
          "metadata": {},
          "execution_count": 68
        }
      ]
    },
    {
      "cell_type": "code",
      "metadata": {
        "id": "b4dxM-KhTG7m"
      },
      "source": [
        "def searchBinary(myList,item):\n",
        "  first = 0\n",
        "  last = len(myList)-1\n",
        "  foundFlag = False\n",
        "  while( first<=last and not foundFlag):\n",
        "    mid = (first + last)//2\n",
        "    if myList[mid] == item :\n",
        "        foundFlag = True\n",
        "    else:\n",
        "        if item < myList[mid]:\n",
        "            last = mid - 1\n",
        "        else:\n",
        "            first = mid + 1\n",
        "  return foundFlag"
      ],
      "execution_count": 74,
      "outputs": []
    },
    {
      "cell_type": "code",
      "metadata": {
        "colab": {
          "base_uri": "https://localhost:8080/"
        },
        "id": "bowXxIJiTQXK",
        "outputId": "a426582d-a1ae-4e21-a65f-2045f54c1978"
      },
      "source": [
        "searchBinary([8,9,10,100,1000,2000,3000],10)"
      ],
      "execution_count": 75,
      "outputs": [
        {
          "output_type": "execute_result",
          "data": {
            "text/plain": [
              "True"
            ]
          },
          "metadata": {},
          "execution_count": 75
        }
      ]
    },
    {
      "cell_type": "code",
      "metadata": {
        "colab": {
          "base_uri": "https://localhost:8080/"
        },
        "id": "VwyZMHvnUGW1",
        "outputId": "49e2a58a-6008-4af5-e0ec-5f488783922e"
      },
      "source": [
        "searchBinary([8,9,10,100,1000,2000,3000],4)"
      ],
      "execution_count": 76,
      "outputs": [
        {
          "output_type": "execute_result",
          "data": {
            "text/plain": [
              "False"
            ]
          },
          "metadata": {},
          "execution_count": 76
        }
      ]
    }
  ]
}